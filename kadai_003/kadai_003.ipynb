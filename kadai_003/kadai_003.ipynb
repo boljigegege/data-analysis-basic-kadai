{
  "nbformat": 4,
  "nbformat_minor": 0,
  "metadata": {
    "colab": {
      "provenance": []
    },
    "kernelspec": {
      "name": "python3",
      "display_name": "Python 3"
    },
    "language_info": {
      "name": "python"
    }
  },
  "cells": [
    {
      "cell_type": "code",
      "execution_count": 12,
      "metadata": {
        "id": "-NWwVnqxjQmV",
        "colab": {
          "base_uri": "https://localhost:8080/"
        },
        "outputId": "7755b3d4-12f4-4275-c5e3-c965254e5d84"
      },
      "outputs": [
        {
          "output_type": "stream",
          "name": "stdout",
          "text": [
            "行列の積: [[ 4  5  6  7]\n",
            " [12 17 22 27]\n",
            " [20 29 38 47]]\n",
            "行の要素の最大値: 47\n"
          ]
        }
      ],
      "source": [
        "import numpy as np\n",
        "A = np.array([[0, 1], [2, 3], [4, 5]])\n",
        "B = np.array([[0, 1, 2, 3], [4, 5, 6, 7]])\n",
        "Seki=np.dot(A, B)\n",
        "M=np.dot(A, B).max()\n",
        "print(\"行列の積:\", Seki)\n",
        "print(\"行の要素の最大値:\", M)"
      ]
    }
  ]
}